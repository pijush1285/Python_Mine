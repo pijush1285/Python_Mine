{
 "cells": [
  {
   "cell_type": "markdown",
   "id": "c198d096",
   "metadata": {},
   "source": [
    "## This is my second program in Jupyter Notebook"
   ]
  },
  {
   "cell_type": "markdown",
   "id": "8cf8ef91",
   "metadata": {},
   "source": [
    "I have started or lonched it from the Conda environment. I'm now using it for writing calculus equations."
   ]
  },
  {
   "cell_type": "code",
   "execution_count": 5,
   "id": "fa5d4a2c",
   "metadata": {},
   "outputs": [],
   "source": [
    "import sympy as smp\n",
    "from sympy import *"
   ]
  },
  {
   "cell_type": "code",
   "execution_count": 6,
   "id": "81882d6c",
   "metadata": {},
   "outputs": [],
   "source": [
    "x, y = smp.symbols('x y')"
   ]
  },
  {
   "cell_type": "code",
   "execution_count": 7,
   "id": "da4c401e",
   "metadata": {},
   "outputs": [
    {
     "data": {
      "text/latex": [
       "$\\displaystyle 1$"
      ],
      "text/plain": [
       "1"
      ]
     },
     "execution_count": 7,
     "metadata": {},
     "output_type": "execute_result"
    }
   ],
   "source": [
    "smp.limit(smp.sin(x/2 + smp.sin(x)), x, smp.pi)"
   ]
  },
  {
   "cell_type": "code",
   "execution_count": 4,
   "id": "b4796533",
   "metadata": {},
   "outputs": [
    {
     "data": {
      "text/plain": [
       "(sin(x/2 + sin(x)), x, pi)"
      ]
     },
     "execution_count": 4,
     "metadata": {},
     "output_type": "execute_result"
    }
   ],
   "source": [
    "smp.sin(x/2 + smp.sin(x)), x, smp.pi"
   ]
  },
  {
   "cell_type": "code",
   "execution_count": 8,
   "id": "4e1a128c",
   "metadata": {
    "scrolled": true
   },
   "outputs": [
    {
     "data": {
      "text/latex": [
       "$\\displaystyle 3 x^{2}$"
      ],
      "text/plain": [
       "3*x**2"
      ]
     },
     "execution_count": 8,
     "metadata": {},
     "output_type": "execute_result"
    }
   ],
   "source": [
    "x = smp.Symbol('x')\n",
    "smp.diff(x**3)"
   ]
  },
  {
   "cell_type": "code",
   "execution_count": null,
   "id": "660600a8",
   "metadata": {},
   "outputs": [],
   "source": []
  }
 ],
 "metadata": {
  "kernelspec": {
   "display_name": "Python 3",
   "language": "python",
   "name": "python3"
  },
  "language_info": {
   "codemirror_mode": {
    "name": "ipython",
    "version": 3
   },
   "file_extension": ".py",
   "mimetype": "text/x-python",
   "name": "python",
   "nbconvert_exporter": "python",
   "pygments_lexer": "ipython3",
   "version": "3.8.8"
  }
 },
 "nbformat": 4,
 "nbformat_minor": 5
}
