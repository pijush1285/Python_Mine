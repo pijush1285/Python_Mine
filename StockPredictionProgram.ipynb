{
 "cells": [
  {
   "cell_type": "code",
   "execution_count": 10,
   "id": "92567910",
   "metadata": {},
   "outputs": [
    {
     "name": "stdout",
     "output_type": "stream",
     "text": [
      "Requirement already satisfied: quandl in c:\\users\\pijhush\\anaconda3\\lib\\site-packages (3.7.0)\n",
      "Requirement already satisfied: pandas>=0.14 in c:\\users\\pijhush\\anaconda3\\lib\\site-packages (from quandl) (1.3.5)\n",
      "Requirement already satisfied: requests>=2.7.0 in c:\\users\\pijhush\\anaconda3\\lib\\site-packages (from quandl) (2.27.1)\n",
      "Requirement already satisfied: more-itertools in c:\\users\\pijhush\\anaconda3\\lib\\site-packages (from quandl) (8.12.0)\n",
      "Requirement already satisfied: numpy>=1.8 in c:\\users\\pijhush\\anaconda3\\lib\\site-packages (from quandl) (1.20.3)\n",
      "Requirement already satisfied: inflection>=0.3.1 in c:\\users\\pijhush\\anaconda3\\lib\\site-packages (from quandl) (0.5.1)\n",
      "Requirement already satisfied: six in c:\\users\\pijhush\\anaconda3\\lib\\site-packages (from quandl) (1.16.0)\n",
      "Requirement already satisfied: python-dateutil in c:\\users\\pijhush\\anaconda3\\lib\\site-packages (from quandl) (2.8.2)\n",
      "Requirement already satisfied: pytz>=2017.3 in c:\\users\\pijhush\\anaconda3\\lib\\site-packages (from pandas>=0.14->quandl) (2021.3)\n",
      "Requirement already satisfied: urllib3<1.27,>=1.21.1 in c:\\users\\pijhush\\anaconda3\\lib\\site-packages (from requests>=2.7.0->quandl) (1.26.7)\n",
      "Requirement already satisfied: idna<4,>=2.5 in c:\\users\\pijhush\\anaconda3\\lib\\site-packages (from requests>=2.7.0->quandl) (3.3)\n",
      "Requirement already satisfied: charset-normalizer~=2.0.0 in c:\\users\\pijhush\\anaconda3\\lib\\site-packages (from requests>=2.7.0->quandl) (2.0.4)\n",
      "Requirement already satisfied: certifi>=2017.4.17 in c:\\users\\pijhush\\anaconda3\\lib\\site-packages (from requests>=2.7.0->quandl) (2021.10.8)\n",
      "Note: you may need to restart the kernel to use updated packages.\n"
     ]
    }
   ],
   "source": [
    "pip install quandl"
   ]
  },
  {
   "cell_type": "code",
   "execution_count": 13,
   "id": "39f3fb62",
   "metadata": {},
   "outputs": [],
   "source": [
    "import quandl\n",
    "import numpy as np\n",
    "from sklearn.linear_model import LinearRegression\n",
    "from sklearn.svm import SVR\n",
    "from sklearn.model_selection import train_test_split\n"
   ]
  },
  {
   "cell_type": "code",
   "execution_count": null,
   "id": "0450342b",
   "metadata": {},
   "outputs": [],
   "source": [
    "#Get the stock data\n",
    "df = quandl.get(\"WIKI/FB\")\n",
    "print(df.head())"
   ]
  },
  {
   "cell_type": "code",
   "execution_count": null,
   "id": "bfce1aa6",
   "metadata": {},
   "outputs": [],
   "source": []
  }
 ],
 "metadata": {
  "kernelspec": {
   "display_name": "Python 3 (ipykernel)",
   "language": "python",
   "name": "python3"
  },
  "language_info": {
   "codemirror_mode": {
    "name": "ipython",
    "version": 3
   },
   "file_extension": ".py",
   "mimetype": "text/x-python",
   "name": "python",
   "nbconvert_exporter": "python",
   "pygments_lexer": "ipython3",
   "version": "3.8.8"
  }
 },
 "nbformat": 4,
 "nbformat_minor": 5
}
